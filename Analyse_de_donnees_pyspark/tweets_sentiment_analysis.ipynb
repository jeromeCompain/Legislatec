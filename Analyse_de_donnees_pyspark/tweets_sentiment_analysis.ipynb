{
 "cells": [
  {
   "cell_type": "code",
   "execution_count": 54,
   "metadata": {
    "collapsed": false
   },
   "outputs": [
    {
     "name": "stdout",
     "output_type": "stream",
     "text": [
      "root\n",
      " |-- _id: struct (nullable = true)\n",
      " |    |-- oid: string (nullable = true)\n",
      " |-- created_at: string (nullable = true)\n",
      " |-- entities: struct (nullable = true)\n",
      " |    |-- hashtags: array (nullable = true)\n",
      " |    |    |-- element: struct (containsNull = true)\n",
      " |    |    |    |-- text: string (nullable = true)\n",
      " |-- text: string (nullable = true)\n",
      "\n"
     ]
    }
   ],
   "source": [
    "from pyspark.sql import SQLContext\n",
    "sqlContext =SQLContext(sc)\n",
    "df = sqlContext.read.format(\"com.mongodb.spark.sql.DefaultSource\").load()\n",
    "df.printSchema()"
   ]
  },
  {
   "cell_type": "code",
   "execution_count": 55,
   "metadata": {
    "collapsed": false
   },
   "outputs": [
    {
     "name": "stdout",
     "output_type": "stream",
     "text": [
      "+--------------------+--------------------+--------------------+--------------------+\n",
      "|                 _id|          created_at|            entities|                text|\n",
      "+--------------------+--------------------+--------------------+--------------------+\n",
      "|[591eb2306e5f1f40...|Fri May 19 08:52:...|    [WrappedArray()]|Justice prédictiv...|\n",
      "|[591ebc356e5f1f75...|Fri May 19 09:33:...|[WrappedArray([FD...|RT @GrosBill92: @...|\n",
      "|[591ebc356e5f1f75...|Fri May 19 09:33:...|    [WrappedArray()]|@GG_RMC @MLP_offi...|\n",
      "|[591ebc356e5f1f75...|Fri May 19 09:33:...|[WrappedArray([Bo...|RT @RMCinfo: @Emm...|\n",
      "|[591ebc356e5f1f75...|Fri May 19 09:33:...|[WrappedArray([Lé...|RT @JSmi20: #Légi...|\n",
      "|[591ebc356e5f1f75...|Fri May 19 09:33:...|[WrappedArray([Pr...|RT @MaximCombes: ...|\n",
      "|[591ebc356e5f1f75...|Fri May 19 09:33:...|    [WrappedArray()]|Super vidéo du ca...|\n",
      "|[591ebc356e5f1f75...|Fri May 19 09:33:...|    [WrappedArray()]|Avec Macron, le r...|\n",
      "|[591ebed26e5f1f75...|Fri May 19 09:45:...|    [WrappedArray()]|@EmmanuelMacron i...|\n",
      "|[591ebf0d6e5f1f75...|Fri May 19 09:46:...|    [WrappedArray()]|@Valeurs Quelle e...|\n",
      "+--------------------+--------------------+--------------------+--------------------+\n",
      "\n"
     ]
    }
   ],
   "source": [
    "df.registerTempTable(\"tweets\")\n",
    "result_data=sqlContext.sql(\"SELECT * from tweets limit 10\")\n",
    "result_data.show()"
   ]
  },
  {
   "cell_type": "code",
   "execution_count": 56,
   "metadata": {
    "collapsed": false
   },
   "outputs": [
    {
     "name": "stdout",
     "output_type": "stream",
     "text": [
      "+--------------------+\n",
      "|                text|\n",
      "+--------------------+\n",
      "|Justice prédictiv...|\n",
      "|RT @GrosBill92: @...|\n",
      "|@GG_RMC @MLP_offi...|\n",
      "|RT @RMCinfo: @Emm...|\n",
      "|RT @JSmi20: #Légi...|\n",
      "|RT @MaximCombes: ...|\n",
      "|Super vidéo du ca...|\n",
      "|Avec Macron, le r...|\n",
      "|@EmmanuelMacron i...|\n",
      "|@Valeurs Quelle e...|\n",
      "+--------------------+\n",
      "\n"
     ]
    }
   ],
   "source": [
    "df.select(\"text\").show()"
   ]
  },
  {
   "cell_type": "code",
   "execution_count": 57,
   "metadata": {
    "collapsed": true
   },
   "outputs": [],
   "source": [
    "rdd1=df.rdd"
   ]
  },
  {
   "cell_type": "code",
   "execution_count": 58,
   "metadata": {
    "collapsed": false
   },
   "outputs": [
    {
     "data": {
      "text/plain": [
       "[Row(_id=Row(oid=u'591eb2306e5f1f4051255ae1'), created_at=u'Fri May 19 08:52:00 +0000 2017', entities=Row(hashtags=[]), text=u'Justice pr\\xe9dictive : le \"big data\" frappe \\xe0 la porte des tribunaux et des cabinets d\\'avocats https://t.co/ussrlylqEA via @franceinfo'),\n",
       " Row(_id=Row(oid=u'591ebc356e5f1f755ad461bd'), created_at=u'Fri May 19 09:33:47 +0000 2017', entities=Row(hashtags=[Row(text=u'FDE04'), Row(text=u'EnMarcheBenelux'), Row(text=u'LREM'), Row(text=u'legislatives2017')]), text=u'RT @GrosBill92: @PAAngade rencontre concitoyens \\xe0 Bruxelles. #FDE04 #EnMarcheBenelux #LREM #legislatives2017 https://t.co/mHACY1Js4H'),\n",
       " Row(_id=Row(oid=u'591ebc356e5f1f755ad461be'), created_at=u'Fri May 19 09:33:48 +0000 2017', entities=Row(hashtags=[]), text=u'@GG_RMC @MLP_officiel @etienneliebig Les deux Etienne....les deux...!'),\n",
       " Row(_id=Row(oid=u'591ebc356e5f1f755ad461bf'), created_at=u'Fri May 19 09:33:48 +0000 2017', entities=Row(hashtags=[Row(text=u'BourdinBDV')]), text=u\"RT @RMCinfo: @EmmanuelMacron 2nd d\\xe9bat #BourdinBDV \\xe0 9h30 \\U0001f4e2 : la direction de @France2tv a-t-elle raison d'\\xe9vincer David Pujadas ? Votez !\\u2026\"),\n",
       " Row(_id=Row(oid=u'591ebc356e5f1f755ad461c0'), created_at=u'Fri May 19 09:33:49 +0000 2017', entities=Row(hashtags=[Row(text=u'L\\xe9gislatives'), Row(text=u'HULOT')]), text=u'RT @JSmi20: #L\\xe9gislatives NE VOUS LAISSEZ PAS IMPRESSIONNER PAR\"L\\'ATTRAPE-VOIX\" #HULOT DE MACRON:IL NE POURRA PAS METTRE SA POL\\u2026 '),\n",
       " Row(_id=Row(oid=u'591ebc356e5f1f755ad461c1'), created_at=u'Fri May 19 09:33:49 +0000 2017', entities=Row(hashtags=[Row(text=u'PremierMinistre'), Row(text=u'Macron'), Row(text=u'gouuvernementphilippe')]), text=u'RT @MaximCombes: Le Ni de droite ni de gauche vu par @rodho_g \\n#PremierMinistre #Macron #gouuvernementphilippe https://t.co/QfuszmbPzg'),\n",
       " Row(_id=Row(oid=u'591ebc356e5f1f755ad461c2'), created_at=u'Fri May 19 09:33:50 +0000 2017', entities=Row(hashtags=[]), text=u\"Super vid\\xe9o du candidat @FranceInsoumise des Fran\\xe7ais d'Europe du Nord sur les cons\\xe9quences de la politique Thatcher https://t.co/5Gxeaw86oy\"),\n",
       " Row(_id=Row(oid=u'591ebc356e5f1f755ad461c4'), created_at=u'Fri May 19 09:33:51 +0000 2017', entities=Row(hashtags=[]), text=u\"Avec Macron, le renouvellement social attendra!\\naux l\\xe9gislatives, il a surtout investi des cadres sup' et des entre\\u2026 https://t.co/7m2Mcbu92k\"),\n",
       " Row(_id=Row(oid=u'591ebed26e5f1f755ad46400'), created_at=u'Fri May 19 09:45:13 +0000 2017', entities=Row(hashtags=[]), text=u'@EmmanuelMacron il fo arr\\xeater de comparer la France a l Allemagne \\ncar il fo pas les m\\xeame horaire comme la France'),\n",
       " Row(_id=Row(oid=u'591ebf0d6e5f1f755ad4645a'), created_at=u'Fri May 19 09:46:00 +0000 2017', entities=Row(hashtags=[]), text=u'@Valeurs Quelle est votre position Monsieur le Pr\\xe9sident @EmmanuelMacron ?')]"
      ]
     },
     "execution_count": 58,
     "metadata": {},
     "output_type": "execute_result"
    }
   ],
   "source": [
    "rdd1.collect()"
   ]
  },
  {
   "cell_type": "code",
   "execution_count": 59,
   "metadata": {
    "collapsed": false
   },
   "outputs": [],
   "source": [
    "rdd2=df.map(lambda r:[r.text,r.entities.hashtags])"
   ]
  },
  {
   "cell_type": "code",
   "execution_count": 60,
   "metadata": {
    "collapsed": false
   },
   "outputs": [
    {
     "data": {
      "text/plain": [
       "[[u'Justice pr\\xe9dictive : le \"big data\" frappe \\xe0 la porte des tribunaux et des cabinets d\\'avocats https://t.co/ussrlylqEA via @franceinfo',\n",
       "  []],\n",
       " [u'RT @GrosBill92: @PAAngade rencontre concitoyens \\xe0 Bruxelles. #FDE04 #EnMarcheBenelux #LREM #legislatives2017 https://t.co/mHACY1Js4H',\n",
       "  [Row(text=u'FDE04'),\n",
       "   Row(text=u'EnMarcheBenelux'),\n",
       "   Row(text=u'LREM'),\n",
       "   Row(text=u'legislatives2017')]],\n",
       " [u'@GG_RMC @MLP_officiel @etienneliebig Les deux Etienne....les deux...!',\n",
       "  []],\n",
       " [u\"RT @RMCinfo: @EmmanuelMacron 2nd d\\xe9bat #BourdinBDV \\xe0 9h30 \\U0001f4e2 : la direction de @France2tv a-t-elle raison d'\\xe9vincer David Pujadas ? Votez !\\u2026\",\n",
       "  [Row(text=u'BourdinBDV')]],\n",
       " [u'RT @JSmi20: #L\\xe9gislatives NE VOUS LAISSEZ PAS IMPRESSIONNER PAR\"L\\'ATTRAPE-VOIX\" #HULOT DE MACRON:IL NE POURRA PAS METTRE SA POL\\u2026 ',\n",
       "  [Row(text=u'L\\xe9gislatives'), Row(text=u'HULOT')]],\n",
       " [u'RT @MaximCombes: Le Ni de droite ni de gauche vu par @rodho_g \\n#PremierMinistre #Macron #gouuvernementphilippe https://t.co/QfuszmbPzg',\n",
       "  [Row(text=u'PremierMinistre'),\n",
       "   Row(text=u'Macron'),\n",
       "   Row(text=u'gouuvernementphilippe')]],\n",
       " [u\"Super vid\\xe9o du candidat @FranceInsoumise des Fran\\xe7ais d'Europe du Nord sur les cons\\xe9quences de la politique Thatcher https://t.co/5Gxeaw86oy\",\n",
       "  []],\n",
       " [u\"Avec Macron, le renouvellement social attendra!\\naux l\\xe9gislatives, il a surtout investi des cadres sup' et des entre\\u2026 https://t.co/7m2Mcbu92k\",\n",
       "  []],\n",
       " [u'@EmmanuelMacron il fo arr\\xeater de comparer la France a l Allemagne \\ncar il fo pas les m\\xeame horaire comme la France',\n",
       "  []],\n",
       " [u'@Valeurs Quelle est votre position Monsieur le Pr\\xe9sident @EmmanuelMacron ?',\n",
       "  []]]"
      ]
     },
     "execution_count": 60,
     "metadata": {},
     "output_type": "execute_result"
    }
   ],
   "source": [
    "rdd2.collect()"
   ]
  },
  {
   "cell_type": "code",
   "execution_count": 100,
   "metadata": {
    "collapsed": false
   },
   "outputs": [],
   "source": [
    "from textblob_fr import PatternTagger, PatternAnalyzer\n",
    "from textblob import TextBlob\n",
    "from textblob import Blobber"
   ]
  },
  {
   "cell_type": "code",
   "execution_count": 63,
   "metadata": {
    "collapsed": true
   },
   "outputs": [],
   "source": [
    "text1=u\"Valeurs Quelle est votre position Monsieur\""
   ]
  },
  {
   "cell_type": "code",
   "execution_count": 64,
   "metadata": {
    "collapsed": true
   },
   "outputs": [],
   "source": [
    "blob1 = TextBlob(text1, pos_tagger=PatternTagger(), analyzer=PatternAnalyzer())"
   ]
  },
  {
   "cell_type": "code",
   "execution_count": 65,
   "metadata": {
    "collapsed": false
   },
   "outputs": [
    {
     "data": {
      "text/plain": [
       "[(u'Valeurs', u'NNS'),\n",
       " (u'Quelle', u'NNP'),\n",
       " (u'est', u'VB'),\n",
       " (u'votre', u'PRP$'),\n",
       " (u'position', u'NN'),\n",
       " (u'Monsieur', u'NNP')]"
      ]
     },
     "execution_count": 65,
     "metadata": {},
     "output_type": "execute_result"
    }
   ],
   "source": [
    "blob1.tags"
   ]
  },
  {
   "cell_type": "code",
   "execution_count": 66,
   "metadata": {
    "collapsed": false
   },
   "outputs": [
    {
     "data": {
      "text/plain": [
       "(0.0, 0.0)"
      ]
     },
     "execution_count": 66,
     "metadata": {},
     "output_type": "execute_result"
    }
   ],
   "source": [
    "blob1.sentiment"
   ]
  },
  {
   "cell_type": "code",
   "execution_count": 68,
   "metadata": {
    "collapsed": false
   },
   "outputs": [],
   "source": [
    "tb =Blobber(pos_tagger=PatternTagger(), analyzer=PatternAnalyzer())"
   ]
  },
  {
   "cell_type": "code",
   "execution_count": 69,
   "metadata": {
    "collapsed": false
   },
   "outputs": [
    {
     "data": {
      "text/plain": [
       "(0.8, 0.8)"
      ]
     },
     "execution_count": 69,
     "metadata": {},
     "output_type": "execute_result"
    }
   ],
   "source": [
    "blob2 = tb(u\"Quelle belle matinée\")\n",
    "blob2.sentiment"
   ]
  },
  {
   "cell_type": "code",
   "execution_count": 70,
   "metadata": {
    "collapsed": false
   },
   "outputs": [
    {
     "data": {
      "text/plain": [
       "(-0.7, 0.6)"
      ]
     },
     "execution_count": 70,
     "metadata": {},
     "output_type": "execute_result"
    }
   ],
   "source": [
    "blob3 = tb(u\"c'est une voiture terrible\")\n",
    "blob3.sentiment"
   ]
  },
  {
   "cell_type": "code",
   "execution_count": 86,
   "metadata": {
    "collapsed": false
   },
   "outputs": [
    {
     "data": {
      "text/plain": [
       "(0.3125, 0.1)"
      ]
     },
     "execution_count": 86,
     "metadata": {},
     "output_type": "execute_result"
    }
   ],
   "source": [
    "blob5 = tb(u\"Avec Macron, le renouvellement social attendra!\\naux l\\xe9gislatives, il a surtout investi des cadres sup' et des entre\\u2026 https://t.co/7m2Mcbu92k\")\n",
    "blob5.sentiment"
   ]
  },
  {
   "cell_type": "code",
   "execution_count": 88,
   "metadata": {
    "collapsed": false
   },
   "outputs": [
    {
     "data": {
      "text/plain": [
       "[TextBlob(\"Justice prédictive : le \"big data\" frappe à la porte des tribunaux et des cabinets d'avocats https://t.co/ussrlylqEA via @franceinfo\"),\n",
       " TextBlob(\"RT @GrosBill92: @PAAngade rencontre concitoyens à Bruxelles. #FDE04 #EnMarcheBenelux #LREM #legislatives2017 https://t.co/mHACY1Js4H\"),\n",
       " TextBlob(\"@GG_RMC @MLP_officiel @etienneliebig Les deux Etienne....les deux...!\")]"
      ]
     },
     "execution_count": 88,
     "metadata": {},
     "output_type": "execute_result"
    }
   ],
   "source": [
    "rdd3=rdd2.map(lambda x:tb(x[0]))\n",
    "rdd3.take(3)"
   ]
  },
  {
   "cell_type": "code",
   "execution_count": 94,
   "metadata": {
    "collapsed": false
   },
   "outputs": [],
   "source": [
    "rdd_texttb=rdd3.collect()"
   ]
  },
  {
   "cell_type": "code",
   "execution_count": 104,
   "metadata": {
    "collapsed": false
   },
   "outputs": [
    {
     "name": "stdout",
     "output_type": "stream",
     "text": [
      "(TextBlob(\"Justice prédictive : le \"big data\" frappe à la porte des tribunaux et des cabinets d'avocats https://t.co/ussrlylqEA via @franceinfo\"), (0.0, 0.0))\n",
      "(TextBlob(\"RT @GrosBill92: @PAAngade rencontre concitoyens à Bruxelles. #FDE04 #EnMarcheBenelux #LREM #legislatives2017 https://t.co/mHACY1Js4H\"), (0.0, 0.0))\n",
      "(TextBlob(\"@GG_RMC @MLP_officiel @etienneliebig Les deux Etienne....les deux...!\"), (0.0, 0.0))\n",
      "(TextBlob(\"RT @RMCinfo: @EmmanuelMacron 2nd débat #BourdinBDV à 9h30 📢 : la direction de @France2tv a-t-elle raison d'évincer David Pujadas ? Votez !…\"), (0.0, 0.0))\n",
      "(TextBlob(\"RT @JSmi20: #Législatives NE VOUS LAISSEZ PAS IMPRESSIONNER PAR\"L'ATTRAPE-VOIX\" #HULOT DE MACRON:IL NE POURRA PAS METTRE SA POL… \"), (0.0, 0.0))\n",
      "(TextBlob(\"RT @MaximCombes: Le Ni de droite ni de gauche vu par @rodho_g \n",
      "#PremierMinistre #Macron #gouuvernementphilippe https://t.co/QfuszmbPzg\"), (0.0050000000000000044, 0.1))\n",
      "(TextBlob(\"Super vidéo du candidat @FranceInsoumise des Français d'Europe du Nord sur les conséquences de la politique Thatcher https://t.co/5Gxeaw86oy\"), (0.22499999999999998, 0.225))\n",
      "(TextBlob(\"Avec Macron, le renouvellement social attendra!\n",
      "aux législatives, il a surtout investi des cadres sup' et des entre… https://t.co/7m2Mcbu92k\"), (0.3125, 0.1))\n",
      "(TextBlob(\"@EmmanuelMacron il fo arrêter de comparer la France a l Allemagne \n",
      "car il fo pas les même horaire comme la France\"), (0.0, 0.5))\n",
      "(TextBlob(\"@Valeurs Quelle est votre position Monsieur le Président @EmmanuelMacron ?\"), (0.0, 0.0))\n"
     ]
    }
   ],
   "source": [
    "for i in rdd_texttb:\n",
    "    i.sentiment\n",
    "    print(i,i.sentiment)"
   ]
  },
  {
   "cell_type": "code",
   "execution_count": null,
   "metadata": {
    "collapsed": true
   },
   "outputs": [],
   "source": [
    "rdd4=rdd3.map(lambda x:x.sentiment)"
   ]
  },
  {
   "cell_type": "code",
   "execution_count": null,
   "metadata": {
    "collapsed": true
   },
   "outputs": [],
   "source": []
  }
 ],
 "metadata": {
  "kernelspec": {
   "display_name": "Python 2",
   "language": "python",
   "name": "python2"
  },
  "language_info": {
   "codemirror_mode": {
    "name": "ipython",
    "version": 2
   },
   "file_extension": ".py",
   "mimetype": "text/x-python",
   "name": "python",
   "nbconvert_exporter": "python",
   "pygments_lexer": "ipython2",
   "version": "2.7.13"
  }
 },
 "nbformat": 4,
 "nbformat_minor": 2
}
